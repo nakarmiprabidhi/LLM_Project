{
  "nbformat": 4,
  "nbformat_minor": 0,
  "metadata": {
    "colab": {
      "provenance": []
    },
    "kernelspec": {
      "name": "python3",
      "display_name": "Python 3"
    },
    "language_info": {
      "name": "python"
    }
  },
  "cells": [
    {
      "cell_type": "markdown",
      "source": [
        "Install libraries"
      ],
      "metadata": {
        "id": "hZEkFktlVa5P"
      }
    },
    {
      "cell_type": "code",
      "source": [
        "!pip install transformers textblob\n"
      ],
      "metadata": {
        "colab": {
          "base_uri": "https://localhost:8080/"
        },
        "id": "5meeiJcDVlJv",
        "outputId": "9f8ab208-a067-43d8-9dda-96024fc989d8"
      },
      "execution_count": null,
      "outputs": [
        {
          "output_type": "stream",
          "name": "stdout",
          "text": [
            "Requirement already satisfied: transformers in /usr/local/lib/python3.10/dist-packages (4.47.1)\n",
            "Requirement already satisfied: textblob in /usr/local/lib/python3.10/dist-packages (0.17.1)\n",
            "Requirement already satisfied: filelock in /usr/local/lib/python3.10/dist-packages (from transformers) (3.16.1)\n",
            "Requirement already satisfied: huggingface-hub<1.0,>=0.24.0 in /usr/local/lib/python3.10/dist-packages (from transformers) (0.27.0)\n",
            "Requirement already satisfied: numpy>=1.17 in /usr/local/lib/python3.10/dist-packages (from transformers) (1.26.4)\n",
            "Requirement already satisfied: packaging>=20.0 in /usr/local/lib/python3.10/dist-packages (from transformers) (24.2)\n",
            "Requirement already satisfied: pyyaml>=5.1 in /usr/local/lib/python3.10/dist-packages (from transformers) (6.0.2)\n",
            "Requirement already satisfied: regex!=2019.12.17 in /usr/local/lib/python3.10/dist-packages (from transformers) (2024.11.6)\n",
            "Requirement already satisfied: requests in /usr/local/lib/python3.10/dist-packages (from transformers) (2.32.3)\n",
            "Requirement already satisfied: tokenizers<0.22,>=0.21 in /usr/local/lib/python3.10/dist-packages (from transformers) (0.21.0)\n",
            "Requirement already satisfied: safetensors>=0.4.1 in /usr/local/lib/python3.10/dist-packages (from transformers) (0.4.5)\n",
            "Requirement already satisfied: tqdm>=4.27 in /usr/local/lib/python3.10/dist-packages (from transformers) (4.67.1)\n",
            "Requirement already satisfied: nltk>=3.1 in /usr/local/lib/python3.10/dist-packages (from textblob) (3.9.1)\n",
            "Requirement already satisfied: fsspec>=2023.5.0 in /usr/local/lib/python3.10/dist-packages (from huggingface-hub<1.0,>=0.24.0->transformers) (2024.10.0)\n",
            "Requirement already satisfied: typing-extensions>=3.7.4.3 in /usr/local/lib/python3.10/dist-packages (from huggingface-hub<1.0,>=0.24.0->transformers) (4.12.2)\n",
            "Requirement already satisfied: click in /usr/local/lib/python3.10/dist-packages (from nltk>=3.1->textblob) (8.1.7)\n",
            "Requirement already satisfied: joblib in /usr/local/lib/python3.10/dist-packages (from nltk>=3.1->textblob) (1.4.2)\n",
            "Requirement already satisfied: charset-normalizer<4,>=2 in /usr/local/lib/python3.10/dist-packages (from requests->transformers) (3.4.0)\n",
            "Requirement already satisfied: idna<4,>=2.5 in /usr/local/lib/python3.10/dist-packages (from requests->transformers) (3.10)\n",
            "Requirement already satisfied: urllib3<3,>=1.21.1 in /usr/local/lib/python3.10/dist-packages (from requests->transformers) (2.2.3)\n",
            "Requirement already satisfied: certifi>=2017.4.17 in /usr/local/lib/python3.10/dist-packages (from requests->transformers) (2024.12.14)\n"
          ]
        }
      ]
    },
    {
      "cell_type": "markdown",
      "source": [
        "Upload Sample Essay"
      ],
      "metadata": {
        "id": "Kr1qj7YIVnwq"
      }
    },
    {
      "cell_type": "code",
      "source": [
        "from google.colab import files\n",
        "\n",
        "uploaded = files.upload()\n",
        "\n",
        "file_name = next(iter(uploaded))\n"
      ],
      "metadata": {
        "colab": {
          "base_uri": "https://localhost:8080/",
          "height": 74
        },
        "id": "ugCnrZh8Vr9r",
        "outputId": "8e3333ac-9d1d-4efb-ead2-9967d22690de"
      },
      "execution_count": null,
      "outputs": [
        {
          "output_type": "display_data",
          "data": {
            "text/plain": [
              "<IPython.core.display.HTML object>"
            ],
            "text/html": [
              "\n",
              "     <input type=\"file\" id=\"files-0ec59f2b-f58d-4d62-9bb4-72df93e63ce8\" name=\"files[]\" multiple disabled\n",
              "        style=\"border:none\" />\n",
              "     <output id=\"result-0ec59f2b-f58d-4d62-9bb4-72df93e63ce8\">\n",
              "      Upload widget is only available when the cell has been executed in the\n",
              "      current browser session. Please rerun this cell to enable.\n",
              "      </output>\n",
              "      <script>// Copyright 2017 Google LLC\n",
              "//\n",
              "// Licensed under the Apache License, Version 2.0 (the \"License\");\n",
              "// you may not use this file except in compliance with the License.\n",
              "// You may obtain a copy of the License at\n",
              "//\n",
              "//      http://www.apache.org/licenses/LICENSE-2.0\n",
              "//\n",
              "// Unless required by applicable law or agreed to in writing, software\n",
              "// distributed under the License is distributed on an \"AS IS\" BASIS,\n",
              "// WITHOUT WARRANTIES OR CONDITIONS OF ANY KIND, either express or implied.\n",
              "// See the License for the specific language governing permissions and\n",
              "// limitations under the License.\n",
              "\n",
              "/**\n",
              " * @fileoverview Helpers for google.colab Python module.\n",
              " */\n",
              "(function(scope) {\n",
              "function span(text, styleAttributes = {}) {\n",
              "  const element = document.createElement('span');\n",
              "  element.textContent = text;\n",
              "  for (const key of Object.keys(styleAttributes)) {\n",
              "    element.style[key] = styleAttributes[key];\n",
              "  }\n",
              "  return element;\n",
              "}\n",
              "\n",
              "// Max number of bytes which will be uploaded at a time.\n",
              "const MAX_PAYLOAD_SIZE = 100 * 1024;\n",
              "\n",
              "function _uploadFiles(inputId, outputId) {\n",
              "  const steps = uploadFilesStep(inputId, outputId);\n",
              "  const outputElement = document.getElementById(outputId);\n",
              "  // Cache steps on the outputElement to make it available for the next call\n",
              "  // to uploadFilesContinue from Python.\n",
              "  outputElement.steps = steps;\n",
              "\n",
              "  return _uploadFilesContinue(outputId);\n",
              "}\n",
              "\n",
              "// This is roughly an async generator (not supported in the browser yet),\n",
              "// where there are multiple asynchronous steps and the Python side is going\n",
              "// to poll for completion of each step.\n",
              "// This uses a Promise to block the python side on completion of each step,\n",
              "// then passes the result of the previous step as the input to the next step.\n",
              "function _uploadFilesContinue(outputId) {\n",
              "  const outputElement = document.getElementById(outputId);\n",
              "  const steps = outputElement.steps;\n",
              "\n",
              "  const next = steps.next(outputElement.lastPromiseValue);\n",
              "  return Promise.resolve(next.value.promise).then((value) => {\n",
              "    // Cache the last promise value to make it available to the next\n",
              "    // step of the generator.\n",
              "    outputElement.lastPromiseValue = value;\n",
              "    return next.value.response;\n",
              "  });\n",
              "}\n",
              "\n",
              "/**\n",
              " * Generator function which is called between each async step of the upload\n",
              " * process.\n",
              " * @param {string} inputId Element ID of the input file picker element.\n",
              " * @param {string} outputId Element ID of the output display.\n",
              " * @return {!Iterable<!Object>} Iterable of next steps.\n",
              " */\n",
              "function* uploadFilesStep(inputId, outputId) {\n",
              "  const inputElement = document.getElementById(inputId);\n",
              "  inputElement.disabled = false;\n",
              "\n",
              "  const outputElement = document.getElementById(outputId);\n",
              "  outputElement.innerHTML = '';\n",
              "\n",
              "  const pickedPromise = new Promise((resolve) => {\n",
              "    inputElement.addEventListener('change', (e) => {\n",
              "      resolve(e.target.files);\n",
              "    });\n",
              "  });\n",
              "\n",
              "  const cancel = document.createElement('button');\n",
              "  inputElement.parentElement.appendChild(cancel);\n",
              "  cancel.textContent = 'Cancel upload';\n",
              "  const cancelPromise = new Promise((resolve) => {\n",
              "    cancel.onclick = () => {\n",
              "      resolve(null);\n",
              "    };\n",
              "  });\n",
              "\n",
              "  // Wait for the user to pick the files.\n",
              "  const files = yield {\n",
              "    promise: Promise.race([pickedPromise, cancelPromise]),\n",
              "    response: {\n",
              "      action: 'starting',\n",
              "    }\n",
              "  };\n",
              "\n",
              "  cancel.remove();\n",
              "\n",
              "  // Disable the input element since further picks are not allowed.\n",
              "  inputElement.disabled = true;\n",
              "\n",
              "  if (!files) {\n",
              "    return {\n",
              "      response: {\n",
              "        action: 'complete',\n",
              "      }\n",
              "    };\n",
              "  }\n",
              "\n",
              "  for (const file of files) {\n",
              "    const li = document.createElement('li');\n",
              "    li.append(span(file.name, {fontWeight: 'bold'}));\n",
              "    li.append(span(\n",
              "        `(${file.type || 'n/a'}) - ${file.size} bytes, ` +\n",
              "        `last modified: ${\n",
              "            file.lastModifiedDate ? file.lastModifiedDate.toLocaleDateString() :\n",
              "                                    'n/a'} - `));\n",
              "    const percent = span('0% done');\n",
              "    li.appendChild(percent);\n",
              "\n",
              "    outputElement.appendChild(li);\n",
              "\n",
              "    const fileDataPromise = new Promise((resolve) => {\n",
              "      const reader = new FileReader();\n",
              "      reader.onload = (e) => {\n",
              "        resolve(e.target.result);\n",
              "      };\n",
              "      reader.readAsArrayBuffer(file);\n",
              "    });\n",
              "    // Wait for the data to be ready.\n",
              "    let fileData = yield {\n",
              "      promise: fileDataPromise,\n",
              "      response: {\n",
              "        action: 'continue',\n",
              "      }\n",
              "    };\n",
              "\n",
              "    // Use a chunked sending to avoid message size limits. See b/62115660.\n",
              "    let position = 0;\n",
              "    do {\n",
              "      const length = Math.min(fileData.byteLength - position, MAX_PAYLOAD_SIZE);\n",
              "      const chunk = new Uint8Array(fileData, position, length);\n",
              "      position += length;\n",
              "\n",
              "      const base64 = btoa(String.fromCharCode.apply(null, chunk));\n",
              "      yield {\n",
              "        response: {\n",
              "          action: 'append',\n",
              "          file: file.name,\n",
              "          data: base64,\n",
              "        },\n",
              "      };\n",
              "\n",
              "      let percentDone = fileData.byteLength === 0 ?\n",
              "          100 :\n",
              "          Math.round((position / fileData.byteLength) * 100);\n",
              "      percent.textContent = `${percentDone}% done`;\n",
              "\n",
              "    } while (position < fileData.byteLength);\n",
              "  }\n",
              "\n",
              "  // All done.\n",
              "  yield {\n",
              "    response: {\n",
              "      action: 'complete',\n",
              "    }\n",
              "  };\n",
              "}\n",
              "\n",
              "scope.google = scope.google || {};\n",
              "scope.google.colab = scope.google.colab || {};\n",
              "scope.google.colab._files = {\n",
              "  _uploadFiles,\n",
              "  _uploadFilesContinue,\n",
              "};\n",
              "})(self);\n",
              "</script> "
            ]
          },
          "metadata": {}
        },
        {
          "output_type": "stream",
          "name": "stdout",
          "text": [
            "Saving SampleCollegeEssay.txt to SampleCollegeEssay.txt\n"
          ]
        }
      ]
    },
    {
      "cell_type": "markdown",
      "source": [
        "Check if its readable"
      ],
      "metadata": {
        "id": "QeWdvSo_V2yK"
      }
    },
    {
      "cell_type": "code",
      "source": [
        "with open(file_name, 'r') as file:\n",
        "    essay_text = file.read()\n",
        "\n",
        "print(essay_text[:1000])\n"
      ],
      "metadata": {
        "colab": {
          "base_uri": "https://localhost:8080/"
        },
        "id": "7y-u4PoxV4St",
        "outputId": "ed729183-0776-4762-d7fa-e682adc5918d"
      },
      "execution_count": null,
      "outputs": [
        {
          "output_type": "stream",
          "name": "stdout",
          "text": [
            "I was a straight A student until I got to high school, where my calm evenings cooking dinner for my siblings turned into hours watching videos, followed by the frantic attempt to finish homework around 4 am. When I got an F on a chemistry pop quiz my mom sat me down to ask me what was happening. I told her I couldnt focus or keep track of all my materials for classes. I thought she would call me lazy, accuse me of wasting the gift of being an American that she and my father gave me. Instead, she looked around at the walls covered in sticky notes, the index cards scattered on the computer desk, the couch, the table, and she said, “How are your friends managing it?” \n",
            "\n",
            "It turned out while my peers were struggling to juggle the demands of high school it didnt seem like they were working as hard to complete simple tasks. They only had to put things in a planner, not make sure the deadlines were placed in multiple locations, physical and digital. At my next doctor appointment my mom mentione\n"
          ]
        }
      ]
    },
    {
      "cell_type": "markdown",
      "source": [
        "Function to summarize"
      ],
      "metadata": {
        "id": "1x47KvclXGMW"
      }
    },
    {
      "cell_type": "code",
      "source": [
        "from transformers import pipeline\n",
        "\n",
        "summarizer = pipeline(\"summarization\", model=\"facebook/bart-large-cnn\")\n",
        "\n",
        "def simple_prompting_for_admission(text):\n",
        "    prompt = f\"Summarize this essay in simple terms focusing on the main point and the important details that explain the writer’s story or argument.\"\n",
        "    summary = summarizer(prompt + text, max_length=150, min_length=100, do_sample=False)\n",
        "    return summary[0]['summary_text']\n",
        "\n",
        "\n",
        "def chain_of_thought_for_admission(text):\n",
        "    prompt = f\"Summarize the essay by first stating the main point the writer is making. Then, explain the steps the writer took or key events that happened. End by summarizing the final conclusion or result.\"\n",
        "    summary = summarizer(prompt + text, max_length=150, min_length=100, do_sample=False)\n",
        "    return summary[0]['summary_text']\n",
        "\n",
        "\n",
        "def tree_of_thoughts_for_admission(text):\n",
        "    prompt = f\"Summarize the main points of this essay. What is the central topic? What key ideas or arguments does the writer present? What conclusions or outcomes are highlighted in the essay?\"\n",
        "    summary = summarizer(prompt + text, max_length=150, min_length=100, do_sample=False)\n",
        "    return summary[0]['summary_text']\n",
        "\n",
        "\n"
      ],
      "metadata": {
        "colab": {
          "base_uri": "https://localhost:8080/"
        },
        "id": "24IshmTvXHrb",
        "outputId": "cbda36ea-6b83-4ab0-c56b-64aae0a0bfc9"
      },
      "execution_count": null,
      "outputs": [
        {
          "output_type": "stream",
          "name": "stderr",
          "text": [
            "Device set to use cpu\n"
          ]
        }
      ]
    },
    {
      "cell_type": "markdown",
      "source": [
        "Print summary"
      ],
      "metadata": {
        "id": "md32Lx8IXJak"
      }
    },
    {
      "cell_type": "code",
      "source": [
        "simple_summary = simple_prompting_for_admission(essay_text)\n",
        "chain_of_thought_summary = chain_of_thought_for_admission(essay_text)\n",
        "tree_of_thought_summary = tree_of_thoughts_for_admission(essay_text)\n",
        "\n",
        "print(\"Simple Summary:\", simple_summary)\n",
        "print(\"Chain-of-Thought Summary:\", chain_of_thought_summary)\n",
        "print(\"Tree of Thoughts Summary:\", tree_of_thought_summary)\n"
      ],
      "metadata": {
        "colab": {
          "base_uri": "https://localhost:8080/"
        },
        "id": "utIX5i8FXLmc",
        "outputId": "b6ff60ff-f07c-4f66-cd34-66fb51f04d65"
      },
      "execution_count": null,
      "outputs": [
        {
          "output_type": "stream",
          "name": "stdout",
          "text": [
            "Simple Summary: The writer was a straight A student until she got to high school. She was diagnosed with a learning disability. The doctor told her it was because she and her family are Asian. The school switched her out of all of her IB courses to “accommodate my special needs.” The doctor said to her, “She is going to be a great lawyer.’“I was shocked at this revelation. The last three doctors had mumbled something about grades but had never said a thing about race,” she said.\n",
            "Chain-of-Thought Summary: The writer was a straight A student until she got to high school. The doctor told her she had a learning problem, but that she was just procrastinating. She worked with the librarian after school to sift through research on ADHD and other learning disabilities. The librarian introduced her to an academic tutor who specialized in learning disabilities and taught her skills like using redundancy and time management to make it easier for her to grapple with moving parts. She was diagnosed with learning disability and switched out of all of her IB courses to “accommodate my special needs”\n",
            "Tree of Thoughts Summary: The writer was a straight A student until she got to high school. She says doctors refused to refer her to a specialist because her grades were too high. The librarian introduced her to an academic tutor who specialized in learning disabilities. The tutor taught her skills like using redundancy and time management to make it easier for her to grapple with moving parts, the writer says. \"I was shocked at this revelation. The last three doctors had mumbled something about grades but had never said a thing about race,\" she says.\n"
          ]
        }
      ]
    },
    {
      "cell_type": "markdown",
      "source": [
        "Sentiment Analysis of Essay"
      ],
      "metadata": {
        "id": "ell2GoUbXo0t"
      }
    },
    {
      "cell_type": "code",
      "source": [
        "from textblob import TextBlob\n",
        "\n",
        "def analyze_sentiment(text):\n",
        "    analysis = TextBlob(text)\n",
        "    sentiment = analysis.sentiment.polarity\n",
        "    if sentiment > 0:\n",
        "        return \"Positive\", sentiment\n",
        "    elif sentiment < 0:\n",
        "        return \"Negative\", sentiment\n",
        "    else:\n",
        "        return \"Neutral\", sentiment\n",
        "\n",
        "sentiment, sentiment_score = analyze_sentiment(essay_text)\n",
        "\n",
        "print(\"Sentiment:\", sentiment)\n",
        "print(\"Sentiment Score:\", sentiment_score)\n"
      ],
      "metadata": {
        "colab": {
          "base_uri": "https://localhost:8080/"
        },
        "id": "Wf2JBP2XXqgO",
        "outputId": "9ec64c08-08df-4ddd-8616-779ce59c93d2"
      },
      "execution_count": null,
      "outputs": [
        {
          "output_type": "stream",
          "name": "stdout",
          "text": [
            "Sentiment: Positive\n",
            "Sentiment Score: 0.08665267838737226\n"
          ]
        }
      ]
    },
    {
      "cell_type": "markdown",
      "source": [
        "Essay Rating"
      ],
      "metadata": {
        "id": "FmPVg1KgX_eO"
      }
    },
    {
      "cell_type": "code",
      "source": [
        "import random\n",
        "\n",
        "def rate_essay(text):\n",
        "    score = random.randint(1, 10)\n",
        "    if sentiment_score > 0.1:\n",
        "        score += 1\n",
        "    if len(text.split()) > 300:\n",
        "        score += 1\n",
        "    return score\n",
        "\n",
        "essay_rating = rate_essay(essay_text)\n",
        "\n",
        "print(\"Essay Rating:\", essay_rating)\n"
      ],
      "metadata": {
        "colab": {
          "base_uri": "https://localhost:8080/"
        },
        "id": "d-ZdVJGTYAlS",
        "outputId": "67c56f1c-40eb-4e66-d493-86f8170de116"
      },
      "execution_count": null,
      "outputs": [
        {
          "output_type": "stream",
          "name": "stdout",
          "text": [
            "Essay Rating: 5\n"
          ]
        }
      ]
    },
    {
      "cell_type": "markdown",
      "source": [
        "Understand Theme of Essay"
      ],
      "metadata": {
        "id": "gUgjKTYmYoXW"
      }
    },
    {
      "cell_type": "code",
      "source": [
        "def extract_themes(text):\n",
        "    themes = []\n",
        "    if \"learning\" in text or \"school\" in text:\n",
        "        themes.append(\"Education\")\n",
        "    if \"family\" in text or \"parent\" in text:\n",
        "        themes.append(\"Family\")\n",
        "    if \"challenge\" in text or \"struggle\" in text:\n",
        "        themes.append(\"Personal Growth\")\n",
        "    if \"doctor\" in text or \"health\" in text:\n",
        "        themes.append(\"Health\")\n",
        "    return themes\n",
        "\n",
        "themes = extract_themes(essay_text)\n",
        "\n",
        "print(\"Themes:\", themes)\n"
      ],
      "metadata": {
        "colab": {
          "base_uri": "https://localhost:8080/"
        },
        "id": "CIiXS-_RYqtW",
        "outputId": "7f5e1034-93d9-4ce5-9346-bea3958f1f07"
      },
      "execution_count": null,
      "outputs": [
        {
          "output_type": "stream",
          "name": "stdout",
          "text": [
            "Themes: ['Education', 'Health']\n"
          ]
        }
      ]
    },
    {
      "cell_type": "markdown",
      "source": [
        "Save output file"
      ],
      "metadata": {
        "id": "InCtqM10YyHS"
      }
    },
    {
      "cell_type": "code",
      "source": [
        "from google.colab import files\n",
        "\n",
        "output_file_name = \"detailed_summary_essay.txt\"\n",
        "with open(output_file_name, 'w') as f:\n",
        "    f.write(\"Essay Sentiment: {}\\n\".format(sentiment))\n",
        "    f.write(\"Essay Rating: {}\\n\\n\".format(essay_rating))\n",
        "    f.write(\"Themes: {}\\n\\n\".format(\", \".join(themes)))\n",
        "    f.write(\"Simple Summary:\\n\")\n",
        "    f.write(simple_summary)\n",
        "    f.write(\"\\n\\nChain-of-Thought Summary:\\n\")\n",
        "    f.write(chain_of_thought_summary)\n",
        "    f.write(\"\\n\\nTree of Thoughts Summary:\\n\")\n",
        "    f.write(tree_of_thought_summary)\n",
        "\n",
        "files.download(output_file_name)\n"
      ],
      "metadata": {
        "colab": {
          "base_uri": "https://localhost:8080/",
          "height": 17
        },
        "id": "02zorIIYYzl2",
        "outputId": "81c1cec7-45e8-4cb5-a65e-e2113b4b922f"
      },
      "execution_count": null,
      "outputs": [
        {
          "output_type": "display_data",
          "data": {
            "text/plain": [
              "<IPython.core.display.Javascript object>"
            ],
            "application/javascript": [
              "\n",
              "    async function download(id, filename, size) {\n",
              "      if (!google.colab.kernel.accessAllowed) {\n",
              "        return;\n",
              "      }\n",
              "      const div = document.createElement('div');\n",
              "      const label = document.createElement('label');\n",
              "      label.textContent = `Downloading \"${filename}\": `;\n",
              "      div.appendChild(label);\n",
              "      const progress = document.createElement('progress');\n",
              "      progress.max = size;\n",
              "      div.appendChild(progress);\n",
              "      document.body.appendChild(div);\n",
              "\n",
              "      const buffers = [];\n",
              "      let downloaded = 0;\n",
              "\n",
              "      const channel = await google.colab.kernel.comms.open(id);\n",
              "      // Send a message to notify the kernel that we're ready.\n",
              "      channel.send({})\n",
              "\n",
              "      for await (const message of channel.messages) {\n",
              "        // Send a message to notify the kernel that we're ready.\n",
              "        channel.send({})\n",
              "        if (message.buffers) {\n",
              "          for (const buffer of message.buffers) {\n",
              "            buffers.push(buffer);\n",
              "            downloaded += buffer.byteLength;\n",
              "            progress.value = downloaded;\n",
              "          }\n",
              "        }\n",
              "      }\n",
              "      const blob = new Blob(buffers, {type: 'application/binary'});\n",
              "      const a = document.createElement('a');\n",
              "      a.href = window.URL.createObjectURL(blob);\n",
              "      a.download = filename;\n",
              "      div.appendChild(a);\n",
              "      a.click();\n",
              "      div.remove();\n",
              "    }\n",
              "  "
            ]
          },
          "metadata": {}
        },
        {
          "output_type": "display_data",
          "data": {
            "text/plain": [
              "<IPython.core.display.Javascript object>"
            ],
            "application/javascript": [
              "download(\"download_23b893e0-041f-4889-bf25-611bf456cb8f\", \"detailed_summary_essay.txt\", 1747)"
            ]
          },
          "metadata": {}
        }
      ]
    }
  ]
}